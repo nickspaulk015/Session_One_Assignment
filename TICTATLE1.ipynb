{
  "cells": [
    {
      "cell_type": "markdown",
      "metadata": {
        "id": "view-in-github",
        "colab_type": "text"
      },
      "source": [
        "<a href=\"https://colab.research.google.com/github/nickspaulk015/Session_One_Assignment/blob/main/TICTATLE1.ipynb\" target=\"_parent\"><img src=\"https://colab.research.google.com/assets/colab-badge.svg\" alt=\"Open In Colab\"/></a>"
      ]
    },
    {
      "cell_type": "code",
      "execution_count": null,
      "metadata": {
        "colab": {
          "background_save": true
        },
        "id": "ARkRecAySlAe"
      },
      "outputs": [],
      "source": [
        "def print_board(board):\n",
        "    for row in board:\n",
        "        print(\" | \".join(row))\n",
        "        print(\"-\" * 9)\n",
        "\n",
        "def check_winner(board, player):\n",
        "    for row in board:\n",
        "        if all(cell == player for cell in row):\n",
        "            return True\n",
        "    for col in range(3):\n",
        "        if all(board[row][col] == player for row in range(3)):\n",
        "            return True\n",
        "    if all(board[i][i] == player for i in range(3)) or all(board[i][2 - i] == player for i in range(3)):\n",
        "        return True\n",
        "    return False\n",
        "\n",
        "def is_board_full(board):\n",
        "    return all(cell != \" \" for row in board for cell in row)\n",
        "\n",
        "def main():\n",
        "    board = [[\" \" for _ in range(3)] for _ in range(3)]\n",
        "    current_player = \"X\"\n",
        "\n",
        "    print(\"Welcome to Tic-Tac-Toe!\")\n",
        "    print_board(board)\n",
        "\n",
        "    while True:\n",
        "        row = int(input(f\"Player {current_player}, choose a row (0-2): \"))\n",
        "        col = int(input(f\"Player {current_player}, choose a column (0-2): \"))\n",
        "\n",
        "        if board[row][col] == \" \":\n",
        "            board[row][col] = current_player\n",
        "            print_board(board)\n",
        "\n",
        "            if check_winner(board, current_player):\n",
        "                print(f\"Player {current_player} wins!\")\n",
        "                break\n",
        "            elif is_board_full(board):\n",
        "                print(\"It's a tie!\")\n",
        "                break\n",
        "            else:\n",
        "                current_player = \"O\" if current_player == \"X\" else \"X\"\n",
        "        else:\n",
        "            print(\"That spot is already taken. Try again.\")\n",
        "\n",
        "if __name__ == \"__main__\":\n",
        "    main()\n"
      ]
    }
  ],
  "metadata": {
    "colab": {
      "provenance": [],
      "authorship_tag": "ABX9TyMacX3l1ayr3sj4ULk5rzae",
      "include_colab_link": true
    },
    "kernelspec": {
      "display_name": "Python 3",
      "name": "python3"
    },
    "language_info": {
      "name": "python"
    }
  },
  "nbformat": 4,
  "nbformat_minor": 0
}